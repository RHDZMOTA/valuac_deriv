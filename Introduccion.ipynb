{
 "cells": [
  {
   "cell_type": "code",
   "execution_count": 6,
   "metadata": {
    "collapsed": false
   },
   "outputs": [
    {
     "ename": "SyntaxError",
     "evalue": "invalid syntax (<ipython-input-6-32ea74d3b666>, line 1)",
     "output_type": "error",
     "traceback": [
      "\u001b[0;36m  File \u001b[0;32m\"<ipython-input-6-32ea74d3b666>\"\u001b[0;36m, line \u001b[0;32m1\u001b[0m\n\u001b[0;31m    $F(k) = \\int_{-\\infty}^{\\infty} f(x) e^{2\\pi i k} dx$\u001b[0m\n\u001b[0m    ^\u001b[0m\n\u001b[0;31mSyntaxError\u001b[0m\u001b[0;31m:\u001b[0m invalid syntax\n"
     ]
    }
   ],
   "source": [
    "$F(k) = \\int_{-\\infty}^{\\infty} f(x) e^{2\\pi i k} dx$\n"
   ]
  },
  {
   "cell_type": "markdown",
   "metadata": {},
   "source": [
    "$F(k) = \\int_{-\\infty}^{\\infty} f(x) e^{2\\pi i k} dx$\n"
   ]
  },
  {
   "cell_type": "markdown",
   "metadata": {},
   "source": [
    "# Introducción. "
   ]
  },
  {
   "cell_type": "markdown",
   "metadata": {},
   "source": [
    "Dentro de los procesos estocásticos, existen diferentes métodos para calcular la probabilidad de que cierto evento suceda con base en diferentes supuestos y dentro de los mismos procesos estocásticos, existe un tipo de método, en el cual el resultado del evento futuro depende del evento inmediatamente anterior; estas son las cadenas de Markov. El ejemplo más trivial para explicar una cadena de Markov es en cual catalogamos el clima en solamente con dos posibles resultados: Que el clima el día de mañana sea soleado o sea lluvioso, donde la variable independiente sería el clima el día de hoy, soleado. Con base en esta información (Que es el evento inmediato anterior) tenemos las siguientes probabilidades:\n",
    "\n",
    "Probabilidad (Mañana esté soleado | Dado que hoy es lluvioso ) = 0.50\n",
    "Entonces, dado que el día de mañana puede ser soleado o lluvioso, concluimos que:\n",
    "Probabilidad (Mañana lluvioso | Dado que hoy es lluvioso ) = 0.50\n",
    "Similarmente:\n",
    "Probabilidad (Mañana lluvioso |  Dado que hoy está soleado ) = 0.10\n",
    "Por lo tanto:\n",
    "Probabilidad (Mañana soleado |  Dado que hoy está soleado ) = 0.90\n",
    "\n",
    "Las cuatro probabilidades anteriores pueden ser representadas como una matriz de transición, la cual representa las probabilidades de que el clima se mueva de un estado a otro de la siguiente manera: \n",
    "\n",
    "|Soleado|Lluvioso|\n",
    "|-------|--------|----|\n",
    "|0.9  |0.1  |**Soleado**|\n",
    "|0.5  |0.5  |**Lluvioso**|\n",
    "\n",
    "Dado los resultados anteriores, podemos hacernos las siguientes preguntas:\n",
    "¿Si el clima está soleado el día de hoy, cual será el clima de mañana?\n",
    "-Dado que no sabemos que pasará, lo mejor que podemos decir es que existe una probabilidad de 90% de que esté soleado y una probabilidad de 10% de que esté lluvioso.\n",
    "\n",
    "¿Y dentro de dos días? Si la predicción uno arroja una probabilidad de 90% de que esté soleado y 10% lluvioso, dentro de dos días será Prob( Soleado dentro de dos días) = 0.9 0.9 + 0.1 0.5 = 0.86\n",
    "de igual manera, la probabilidad de que esté lluvioso será Prob( Lluvioso dentro de dos días) = 0.1 0.5 + 0.9 0.1 = 0.14.\n",
    "\n",
    "De este ejemplo es importante rescatar los conceptos básicos de la álgebra lineal (Matrices de transición) estos calculos corresponden a todas las permutaciones en transiciones de un paso a otro (soleado-a-soleado (SaS), soleado-a-lluvioso (SaL) o lluvioso-a-lluvioso (LaL)) con sus respectivas probabilidades antes calculadas:\n",
    "\n",
    "![Imagen 1](http://i.stack.imgur.com/gNcxV.png \"Transicion)\n",
    "\n",
    "En la parte inferior de la imagen podemos ver como calcular la probabilidad de un estado futuro, (t+1 o t+2) dadas las probabilidades para cada estado (Soleado o lluvioso) en el tiempo cero (Hoy o t0) como una simple multiplicación de matrices.\n",
    "\n",
    "Si continuamos prediciendo el clima de esta manera, eventualmente nos daremos cuenta de que el dia _n_ de predicción será con un _n_ muy grande (propongamos 30) y se establece en las siguientes probabilidades _\"De equilibrio:\"_\n",
    "\n",
    "Prob(Soleado) = 0.833 \n",
    "Prob(Lluvioso) = 0.167\n",
    "\n",
    "En otras palabras, podemos decir que para el día N y para el día N+1 los pronósticos permanecen iguales. De igual manera podemos comprobar que las probabilidades de  _\"Equilibrio\"_ no dependen del clima del día de hoy, pues tendríamos el mismo pronóstico si comenzamos por asumir que el clima del día es soleado o lluvioso. \n",
    "Prob(Sunny) = 0.833 Prob(Rainy) = 0.167\n",
    "\n",
    "El ejemplo anterior solamente funcionará si el estado de transición de las probabilidades satisface diferentes condiciones, pero en este caso solamente enfoquemonos en las características de esta cadena de markov que cumple con todas las condiciones.\n",
    "\n",
    "Entonces, __Markov Chain Monte Carlo__ explota todas las características de cadenas de markov explicadas anteriormente de la siguiente manera:\n",
    "\n",
    "Queremos generar muestras aleatorias de nuestra distribución objetivo. Cuando entonces identifiquemos la manera de construir una cadena de markov que cumpla con las condiciones como la distribución de equilibrio de probabilidad que es nuestra distribución objetivo. \n",
    "\n",
    "Si podemos construir dicha cadena, entonces podemos comenzar arbitrariamente desde cualquier punto e ir iterando la cadena de Markov. Eventualmente, las muestras que generamos apareceran como si hubieran sido obtenidas con nuestra distribución objetivo.\n"
   ]
  },
  {
   "cell_type": "code",
   "execution_count": null,
   "metadata": {
    "collapsed": true
   },
   "outputs": [],
   "source": []
  }
 ],
 "metadata": {
  "kernelspec": {
   "display_name": "Python 3",
   "language": "python",
   "name": "python3"
  },
  "language_info": {
   "codemirror_mode": {
    "name": "ipython",
    "version": 3
   },
   "file_extension": ".py",
   "mimetype": "text/x-python",
   "name": "python",
   "nbconvert_exporter": "python",
   "pygments_lexer": "ipython3",
   "version": "3.5.0"
  }
 },
 "nbformat": 4,
 "nbformat_minor": 0
}
