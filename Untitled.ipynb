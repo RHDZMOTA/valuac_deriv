{
 "cells": [
  {
   "cell_type": "code",
   "execution_count": 6,
   "metadata": {
    "collapsed": false
   },
   "outputs": [
    {
     "ename": "SyntaxError",
     "evalue": "invalid syntax (<ipython-input-6-32ea74d3b666>, line 1)",
     "output_type": "error",
     "traceback": [
      "\u001b[0;36m  File \u001b[0;32m\"<ipython-input-6-32ea74d3b666>\"\u001b[0;36m, line \u001b[0;32m1\u001b[0m\n\u001b[0;31m    $F(k) = \\int_{-\\infty}^{\\infty} f(x) e^{2\\pi i k} dx$\u001b[0m\n\u001b[0m    ^\u001b[0m\n\u001b[0;31mSyntaxError\u001b[0m\u001b[0;31m:\u001b[0m invalid syntax\n"
     ]
    }
   ],
   "source": [
    "$F(k) = \\int_{-\\infty}^{\\infty} f(x) e^{2\\pi i k} dx$\n"
   ]
  },
  {
   "cell_type": "markdown",
   "metadata": {},
   "source": [
    "$F(k) = \\int_{-\\infty}^{\\infty} f(x) e^{2\\pi i k} dx$\n"
   ]
  },
  {
   "cell_type": "markdown",
   "metadata": {},
   "source": [
    "# Introducción. "
   ]
  },
  {
   "cell_type": "markdown",
   "metadata": {},
   "source": [
    "Dentro de los procesos estocásticos, existen diferentes métodos para calcular la probabilidad de que cierto evento suceda con base en diferentes supuestos y dentro de los mismos procesos estocásticos, existe un tipo de método, en el cual el resultado del evento futuro depende del evento inmediatamente anterior; estas son las cadenas de Markov. El ejemplo más trivial para explicar una cadena de Markov es en cual catalogamos el clima en solamente "
   ]
  }
 ],
 "metadata": {
  "kernelspec": {
   "display_name": "Python 3",
   "language": "python",
   "name": "python3"
  },
  "language_info": {
   "codemirror_mode": {
    "name": "ipython",
    "version": 3
   },
   "file_extension": ".py",
   "mimetype": "text/x-python",
   "name": "python",
   "nbconvert_exporter": "python",
   "pygments_lexer": "ipython3",
   "version": "3.5.0"
  }
 },
 "nbformat": 4,
 "nbformat_minor": 0
}
