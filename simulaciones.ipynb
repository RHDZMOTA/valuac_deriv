{
 "cells": [
  {
   "cell_type": "markdown",
   "metadata": {},
   "source": [
    "Existirán distintas simulaciones de los siguientes modelos: $$dS_t = \\mu S_t dt + \\sigma S_t dW_t$$, $$dr_t = \\alpha(\\mu - r_t)dt + \\sigma r_t^{y} dW_t$$ para lo cual se proceden a realizar distintas simulaciones que serán utilizadas para determinar el modelo que mejor ajusta a los datos. Las simulaciones del proyecto iniciarán con el movimiento geométrico definido por el primer modelo escrito. El procedimiento a realizar es utilizar el método de máxima verosimilitud para hacer la estimación de los parámetros mu y sigma provenientes de la ecuación diferencial estocástica del tipo de cambio."
   ]
  },
  {
   "cell_type": "markdown",
   "metadata": {},
   "source": [
    "A continuación se descargan los datos pertinentes."
   ]
  },
  {
   "cell_type": "code",
   "execution_count": 7,
   "metadata": {
    "collapsed": false
   },
   "outputs": [],
   "source": [
    "#-*- coding: UTF-8 -*-\n",
    "__author__ = 'Rodrigo'\n",
    "\n",
    "import datetime as dat\n",
    "import matplotlib.pyplot as plt\n",
    "import numpy as np\n",
    "import pandas as pd\n",
    "\n",
    "# TIEMPO\n",
    "\"\"\"\n",
    "Se definen las variables de tiempo.\n",
    "t0  : tiempo inicial\n",
    "t   : tiempo final\n",
    "delt: dif. en días entre t0 y t\n",
    "\"\"\"\n",
    "t_fina = dat.datetime.today()\n",
    "t_inic = t_fina\n",
    "delt = dat.timedelta(days = 2*365)\n",
    "t = t_fina.strftime('%Y-%m-%d')\n",
    "t_inic -= delt\n",
    "t0 = t_inic.strftime('%Y-%m-%d')\n",
    "\n",
    "# DATOS\n",
    "\"\"\"\n",
    "Se obtiene la información de la página quandl.\n",
    "usdmxn : dataframe de precios\n",
    "\"\"\"\n",
    "url = \"https://www.quandl.com/api/v3/datasets/BNP/USDMXN.csv?start_date=\"+t0\n",
    "usdmxn  = pd.read_csv(url).sort_values(\"Date\")\n",
    "\n",
    "\n",
    "\n"
   ]
  },
  {
   "cell_type": "markdown",
   "metadata": {},
   "source": [
    "Posteriormente se procede a la realización de la simulación del movimiento geométrico browniano para compararla contra los datos reales de los últimos dos años del tipo de cambio USD/MXN."
   ]
  },
  {
   "cell_type": "code",
   "execution_count": 59,
   "metadata": {
    "collapsed": false
   },
   "outputs": [
    {
     "data": {
      "text/plain": [
       "0    0\n",
       "1    0\n",
       "2    0\n",
       "3    0\n",
       "4    0\n",
       "Name: USD/MXN, dtype: float64"
      ]
     },
     "execution_count": 59,
     "metadata": {},
     "output_type": "execute_result"
    }
   ],
   "source": [
    "rendimientos = (usdmxn[\"USD/MXN\"][1:len(usdmxn)] / usdmxn[\"USD/MXN\"][0:len(usdmxn)] -1)\n",
    "rendimientos.head()"
   ]
  },
  {
   "cell_type": "code",
   "execution_count": 58,
   "metadata": {
    "collapsed": false
   },
   "outputs": [],
   "source": [
    "x = {1,2}\n",
    "print(x)"
   ]
  },
  {
   "cell_type": "code",
   "execution_count": 50,
   "metadata": {
    "collapsed": false
   },
   "outputs": [
    {
     "data": {
      "text/plain": [
       "728    12.9346\n",
       "727    12.9033\n",
       "726    12.9027\n",
       "725    12.9842\n",
       "724    13.0937\n",
       "723    13.0288\n",
       "722    12.9686\n",
       "721    12.9684\n",
       "720    13.0041\n",
       "719    13.0636\n",
       "718    13.0826\n",
       "717    13.1047\n",
       "716    13.0846\n",
       "715    13.1073\n",
       "714    13.1073\n",
       "713    13.1493\n",
       "712    13.2162\n",
       "711    13.1149\n",
       "710    13.0426\n",
       "709    13.0435\n",
       "708    12.9326\n",
       "707    12.9328\n",
       "706    12.8808\n",
       "705    12.8465\n",
       "704    12.8900\n",
       "703    13.0250\n",
       "702    12.9663\n",
       "701    12.8833\n",
       "700    12.8829\n",
       "699    12.9169\n",
       "        ...   \n",
       "29     16.4276\n",
       "28     16.4276\n",
       "27     16.4309\n",
       "26     16.5198\n",
       "25     16.6128\n",
       "24     16.5900\n",
       "23     16.5045\n",
       "22     16.5945\n",
       "21     16.5945\n",
       "20     16.5544\n",
       "19     16.5514\n",
       "18     16.5321\n",
       "17     16.6373\n",
       "16     16.5768\n",
       "15     16.5006\n",
       "14     16.5006\n",
       "13     16.4887\n",
       "12     16.4419\n",
       "11     16.4272\n",
       "10     16.5558\n",
       "9      16.6804\n",
       "8      16.8253\n",
       "7      16.8082\n",
       "6      16.8208\n",
       "5      16.7755\n",
       "4      16.7309\n",
       "3      16.7290\n",
       "2      16.7412\n",
       "1      16.6857\n",
       "0      16.6856\n",
       "Name: USD/MXN, dtype: float64"
      ]
     },
     "execution_count": 50,
     "metadata": {},
     "output_type": "execute_result"
    }
   ],
   "source": [
    "usdmxn[\"USD/MXN\"][1:len(usdmxn)]"
   ]
  },
  {
   "cell_type": "code",
   "execution_count": 39,
   "metadata": {
    "collapsed": false
   },
   "outputs": [
    {
     "data": {
      "text/plain": [
       "729    12.9348\n",
       "728    12.9346\n",
       "727    12.9033\n",
       "726    12.9027\n",
       "725    12.9842\n",
       "Name: USD/MXN, dtype: float64"
      ]
     },
     "execution_count": 39,
     "metadata": {},
     "output_type": "execute_result"
    }
   ],
   "source": [
    "usdmxn[\"USD/MXN\"][0:5]"
   ]
  },
  {
   "cell_type": "code",
   "execution_count": 41,
   "metadata": {
    "collapsed": false
   },
   "outputs": [
    {
     "data": {
      "text/plain": [
       "12.9842"
      ]
     },
     "execution_count": 41,
     "metadata": {},
     "output_type": "execute_result"
    }
   ],
   "source": [
    "usdmxn[\"USD/MXN\"][729-4]    "
   ]
  },
  {
   "cell_type": "code",
   "execution_count": 47,
   "metadata": {
    "collapsed": false
   },
   "outputs": [
    {
     "ename": "SyntaxError",
     "evalue": "invalid syntax (<ipython-input-47-f675bbf46cb3>, line 1)",
     "output_type": "error",
     "traceback": [
      "\u001b[1;36m  File \u001b[1;32m\"<ipython-input-47-f675bbf46cb3>\"\u001b[1;36m, line \u001b[1;32m1\u001b[0m\n\u001b[1;33m    0:(len(usdmxn)-2)\u001b[0m\n\u001b[1;37m     ^\u001b[0m\n\u001b[1;31mSyntaxError\u001b[0m\u001b[1;31m:\u001b[0m invalid syntax\n"
     ]
    }
   ],
   "source": [
    "0:(len(usdmxn)-2)"
   ]
  },
  {
   "cell_type": "code",
   "execution_count": null,
   "metadata": {
    "collapsed": true
   },
   "outputs": [],
   "source": []
  }
 ],
 "metadata": {
  "kernelspec": {
   "display_name": "Python 3",
   "language": "python",
   "name": "python3"
  },
  "language_info": {
   "codemirror_mode": {
    "name": "ipython",
    "version": 3
   },
   "file_extension": ".py",
   "mimetype": "text/x-python",
   "name": "python",
   "nbconvert_exporter": "python",
   "pygments_lexer": "ipython3",
   "version": "3.5.0"
  }
 },
 "nbformat": 4,
 "nbformat_minor": 0
}
